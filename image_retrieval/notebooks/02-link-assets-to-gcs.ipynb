{
 "cells": [
  {
   "cell_type": "code",
   "execution_count": 1,
   "id": "friendly-devon",
   "metadata": {},
   "outputs": [],
   "source": [
    "import pystac\n",
    "import urlpath\n",
    "import stac2dcache\n",
    "import xml.etree.ElementTree as ET"
   ]
  },
  {
   "cell_type": "code",
   "execution_count": 2,
   "id": "professional-inside",
   "metadata": {},
   "outputs": [
    {
     "data": {
      "text/plain": [
       "'0.1.0'"
      ]
     },
     "execution_count": 2,
     "metadata": {},
     "output_type": "execute_result"
    }
   ],
   "source": [
    "stac2dcache.__version__"
   ]
  },
  {
   "cell_type": "markdown",
   "id": "ongoing-notice",
   "metadata": {},
   "source": [
    "# Link Sentinel-2 L1C assets to GCS"
   ]
  },
  {
   "cell_type": "markdown",
   "id": "single-calculator",
   "metadata": {},
   "source": [
    "The Sentinel-2 L1C dataset on AWS is available requester-pays. We thus replace the link to these assets to Google Cloud Storage (GCS) dataset, which are publicly available."
   ]
  },
  {
   "cell_type": "markdown",
   "id": "south-chemistry",
   "metadata": {},
   "source": [
    "We start by reading the catalog which we have saved on the dCache storage, using a macaroon-based authentication:"
   ]
  },
  {
   "cell_type": "code",
   "execution_count": 3,
   "id": "cloudy-singles",
   "metadata": {},
   "outputs": [],
   "source": [
    "# configure connection to dCache\n",
    "dcache = stac2dcache.configure(\n",
    "    filesystem=\"dcache\", \n",
    "    token_filename=\"macaroon.dat\"\n",
    ")"
   ]
  },
  {
   "cell_type": "code",
   "execution_count": 4,
   "id": "substantial-source",
   "metadata": {},
   "outputs": [],
   "source": [
    "catalog_id = \"red-glacier_sentinel-2\"\n",
    "catalog_url = (f\"https://webdav.grid.surfsara.nl:2880/pnfs/grid.sara.nl\"\n",
    "               f\"/data/eratosthenes/disk/{catalog_id}\")"
   ]
  },
  {
   "cell_type": "code",
   "execution_count": 5,
   "id": "julian-notice",
   "metadata": {},
   "outputs": [],
   "source": [
    "# read catalog from storage\n",
    "catalog = pystac.Catalog.from_file(f\"{catalog_url}/catalog.json\")"
   ]
  },
  {
   "cell_type": "markdown",
   "id": "freelance-feedback",
   "metadata": {},
   "source": [
    "The following function parses the `manifest.safe` file, where the path to the assets is provided, and compose the full asset URLs:  "
   ]
  },
  {
   "cell_type": "code",
   "execution_count": 6,
   "id": "efficient-status",
   "metadata": {},
   "outputs": [],
   "source": [
    "def _get_band_urls(url):\n",
    "\n",
    "    url = urlpath.URL(url)\n",
    "    manifest_url = url / 'manifest.safe'\n",
    "    manifest = manifest_url.get_text()\n",
    "\n",
    "    band_urls = {}\n",
    "\n",
    "    root = ET.fromstring(manifest)\n",
    "    for data_object in root.iter('dataObject'):\n",
    "        id = data_object.get('ID')\n",
    "        if id is not None and 'IMG_DATA' in id:\n",
    "            file_location = data_object.find('byteStream/fileLocation')\n",
    "            band_url = url / file_location.get('href')\n",
    "            band = band_url.stem.split('_')[-1] # 'XX_XXXX_B01.jp2' -> 'B01'\n",
    "            band_urls[band] = band_url.as_uri()\n",
    "            \n",
    "    return band_urls"
   ]
  },
  {
   "cell_type": "markdown",
   "id": "still-chain",
   "metadata": {},
   "source": [
    "We replace the URLs in all the items of the Sentinel-2 L1C collection:"
   ]
  },
  {
   "cell_type": "code",
   "execution_count": 7,
   "id": "dynamic-activity",
   "metadata": {},
   "outputs": [],
   "source": [
    "collection_id = \"sentinel-s2-l1c\"\n",
    "collection = catalog.get_child(collection_id)"
   ]
  },
  {
   "cell_type": "code",
   "execution_count": 8,
   "id": "enabling-leave",
   "metadata": {},
   "outputs": [],
   "source": [
    "BASE_URL = 'http://storage.googleapis.com/gcp-public-data-sentinel-2/tiles'\n",
    "\n",
    "for item in collection.get_all_items():\n",
    "    \n",
    "    url = '{}/{:02d}/{}/{}/{}.SAFE'.format(\n",
    "        BASE_URL, \n",
    "        item.properties['sentinel:utm_zone'],\n",
    "        item.properties['sentinel:latitude_band'],\n",
    "        item.properties['sentinel:grid_square'],\n",
    "        item.properties['sentinel:product_id']\n",
    "    )\n",
    "        \n",
    "    band_urls = _get_band_urls(url)\n",
    "\n",
    "    for band, url in band_urls.items():\n",
    "        if band in item.assets:\n",
    "            item.assets[band].href = url\n",
    "            \n",
    "    item.assets['overview'].href = band_urls['TCI']  # TCI -> overview"
   ]
  },
  {
   "cell_type": "markdown",
   "id": "cosmetic-underwear",
   "metadata": {},
   "source": [
    "We update the catalog on the dCache storage with the new links:"
   ]
  },
  {
   "cell_type": "code",
   "execution_count": 9,
   "id": "parallel-falls",
   "metadata": {},
   "outputs": [],
   "source": [
    "# save catalog to storage\n",
    "catalog.normalize_and_save(catalog_url, catalog_type='SELF_CONTAINED')"
   ]
  }
 ],
 "metadata": {
  "kernelspec": {
   "display_name": "Python 3",
   "language": "python",
   "name": "python3"
  },
  "language_info": {
   "codemirror_mode": {
    "name": "ipython",
    "version": 3
   },
   "file_extension": ".py",
   "mimetype": "text/x-python",
   "name": "python",
   "nbconvert_exporter": "python",
   "pygments_lexer": "ipython3",
   "version": "3.8.8"
  }
 },
 "nbformat": 4,
 "nbformat_minor": 5
}
