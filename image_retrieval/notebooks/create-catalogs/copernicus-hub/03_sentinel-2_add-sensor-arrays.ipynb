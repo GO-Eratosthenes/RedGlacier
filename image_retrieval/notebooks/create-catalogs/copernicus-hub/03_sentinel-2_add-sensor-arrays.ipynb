{
 "cells": [
  {
   "cell_type": "markdown",
   "id": "hired-density",
   "metadata": {},
   "source": [
    "# Add sensor array metadata to Sentinel-2 data catalog "
   ]
  },
  {
   "cell_type": "markdown",
   "id": "5a78798b-5c0d-4dac-9aeb-9881906b2c2e",
   "metadata": {},
   "source": [
    "In this notebook we:\n",
    "* read a [previously created STAC catalog](./01_sentinel-2_CopernicusHub.ipynb) with Sentinel-2 L1C data from the SURF dCache storage system. \n",
    "* add links to the sensor array metadata, publicly available on [Google Cloud Storage](https://cloud.google.com/storage/docs/public-datasets/sentinel-2) (GCS), to the items of the catalog. \n",
    "* save the catalog (metadata only, with links to the GCS data) to the SURF dCache storage system. "
   ]
  },
  {
   "cell_type": "markdown",
   "id": "completed-elements",
   "metadata": {},
   "source": [
    "## Load catalog with Sentinel-2 L1C data"
   ]
  },
  {
   "cell_type": "code",
   "execution_count": 1,
   "id": "veterinary-figure",
   "metadata": {},
   "outputs": [],
   "source": [
    "catalog_id = \"red-glacier_copernicushub-gcp\"\n",
    "url = (f\"https://webdav.grid.surfsara.nl:2880/pnfs/\"\n",
    "       f\"grid.sara.nl/data/eratosthenes/disk/{catalog_id}/catalog.json\")"
   ]
  },
  {
   "cell_type": "code",
   "execution_count": 2,
   "id": "387e26d7-cd33-4173-aff6-93d4e88b1ff4",
   "metadata": {},
   "outputs": [],
   "source": [
    "import stac2dcache\n",
    "# configure PySTAC to read from/write to dCache\n",
    "stac2dcache.configure(\n",
    "    token_filename=\"macaroon.dat\"\n",
    ")"
   ]
  },
  {
   "cell_type": "code",
   "execution_count": 3,
   "id": "narrative-samuel",
   "metadata": {},
   "outputs": [
    {
     "data": {
      "text/plain": [
       "<Catalog id=red-glacier_copernicushub-gcp>"
      ]
     },
     "execution_count": 3,
     "metadata": {},
     "output_type": "execute_result"
    }
   ],
   "source": [
    "import pystac\n",
    "catalog = pystac.Catalog.from_file(\n",
    "    url, \n",
    "    stac_io=stac2dcache.stac_io\n",
    ")\n",
    "catalog"
   ]
  },
  {
   "cell_type": "markdown",
   "id": "b51fda7a-2fbb-4d4e-920d-dcb0456734fb",
   "metadata": {},
   "source": [
    "## Add sensor array metadata from Google Cloud Storage (GCS) as assets to the items\n",
    "\n",
    "For more information on Sentinel-2 data on GCS see this [README file](./README.md)."
   ]
  },
  {
   "cell_type": "code",
   "execution_count": 4,
   "id": "8eade8d0-c1ce-42e8-bd11-8e5a10fcc097",
   "metadata": {},
   "outputs": [],
   "source": [
    "SENTINEL2_BUCKET = \"gcp-public-data-sentinel-2\"\n",
    "BASE_URL = \"http://storage.googleapis.com\""
   ]
  },
  {
   "cell_type": "code",
   "execution_count": 5,
   "id": "f80266fe-5a47-4376-8cd5-87f0f730beb5",
   "metadata": {},
   "outputs": [],
   "source": [
    "import pathlib\n",
    "import xml.etree.ElementTree as ET\n",
    "\n",
    "\n",
    "EXT_TO_MEDIATYPE = {\n",
    "    \".jp2\": pystac.MediaType.JPEG2000,\n",
    "    \".gml\": pystac.MediaType.XML,\n",
    "}\n",
    "\n",
    "\n",
    "def make_url(item, path_rel):\n",
    "    \"\"\"Construct URL with full GCS path from relative path.\"\"\"\n",
    "    tile_id = item.properties[\"s2:mgrs_tile\"]\n",
    "    path = (\n",
    "        f\"{SENTINEL2_BUCKET}/tiles/\"\n",
    "        f\"{tile_id[:2]}/{tile_id[2]}/{tile_id[3:]}/\"\n",
    "        f\"{item.id}/\"\n",
    "        f\"{path_rel}\"\n",
    "    )\n",
    "    return f\"{BASE_URL}/{path}\"\n",
    "\n",
    "    \n",
    "def add_sensor_array_metadata_as_assets(item):\n",
    "    \"\"\"Use metadata to construct pystac.Asset objects and add them to the input Item.\"\"\"\n",
    "    \n",
    "    # get granule metadata file\n",
    "    granule_metadata_txt = stac2dcache.fs.cat(\n",
    "        item.assets[\"granule-metadata\"].get_absolute_href()\n",
    "    )\n",
    "\n",
    "    root = ET.fromstring(granule_metadata_txt.decode())\n",
    "    for el in root[-1][1]:  # n1:Quality_Indicators_Info metadataLevel, Pixel_Level_QI  \n",
    "        if el.attrib[\"type\"] == \"MSK_DETFOO\":\n",
    "            path = pathlib.Path(el.text)\n",
    "            href = make_url(item, path)\n",
    "            band_key = path.stem.split(\"_\")[-1]\n",
    "            media_type = EXT_TO_MEDIATYPE[path.suffix]\n",
    "            asset = pystac.Asset(\n",
    "                href=href,\n",
    "                media_type=media_type,\n",
    "                roles=[\"metadata\"]\n",
    "            )\n",
    "            item.add_asset(\n",
    "                f\"sensor-metadata-{band_key}\", \n",
    "                asset\n",
    "            )"
   ]
  },
  {
   "cell_type": "code",
   "execution_count": 6,
   "id": "b309d1c5-a2f4-43de-b348-30e6eb74b3f1",
   "metadata": {},
   "outputs": [],
   "source": [
    "for item in catalog.get_all_items():\n",
    "    add_sensor_array_metadata_as_assets(item)"
   ]
  },
  {
   "cell_type": "markdown",
   "id": "economic-cache",
   "metadata": {},
   "source": [
    "## Save the catalog"
   ]
  },
  {
   "cell_type": "code",
   "execution_count": 8,
   "id": "under-involvement",
   "metadata": {},
   "outputs": [],
   "source": [
    "url = (f\"https://webdav.grid.surfsara.nl:2880/pnfs/\"\n",
    "       f\"grid.sara.nl/data/eratosthenes/disk/{catalog_id}\")"
   ]
  },
  {
   "cell_type": "code",
   "execution_count": 9,
   "id": "turned-glory",
   "metadata": {},
   "outputs": [],
   "source": [
    "# save catalog to storage\n",
    "catalog.normalize_and_save(url, catalog_type=catalog.catalog_type)"
   ]
  }
 ],
 "metadata": {
  "kernelspec": {
   "display_name": "Python 3 (ipykernel)",
   "language": "python",
   "name": "python3"
  },
  "language_info": {
   "codemirror_mode": {
    "name": "ipython",
    "version": 3
   },
   "file_extension": ".py",
   "mimetype": "text/x-python",
   "name": "python",
   "nbconvert_exporter": "python",
   "pygments_lexer": "ipython3",
   "version": "3.8.12"
  }
 },
 "nbformat": 4,
 "nbformat_minor": 5
}
