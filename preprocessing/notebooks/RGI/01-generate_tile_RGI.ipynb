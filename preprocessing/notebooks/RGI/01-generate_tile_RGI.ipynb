{
 "cells": [
  {
   "cell_type": "code",
   "execution_count": 1,
   "id": "initial-string",
   "metadata": {},
   "outputs": [],
   "source": [
    "import pathlib\n",
    "import tempfile\n",
    "import zipfile\n",
    "\n",
    "import geopandas\n",
    "import pystac\n",
    "import stac2dcache\n",
    "\n",
    "from shapely.geometry import Polygon\n",
    "from stac2dcache.utils import get_asset\n",
    "\n",
    "from eratosthenes.generic.gis_tools import ll2utm, shape2raster"
   ]
  },
  {
   "cell_type": "markdown",
   "id": "sporting-challenge",
   "metadata": {},
   "source": [
    "# Rasterize and retile RGI according to Sentinel-2 scheme"
   ]
  },
  {
   "cell_type": "code",
   "execution_count": 2,
   "id": "accompanied-section",
   "metadata": {},
   "outputs": [],
   "source": [
    "catalog_url = (\"https://webdav.grid.surfsara.nl:2880\"\n",
    "               \"/pnfs/grid.sara.nl/data/eratosthenes/\"\n",
    "               \"disk/red-glacier_sentinel-2\")\n",
    "collection_id = \"sentinel-s2-l1c\"\n",
    "rgi_root_url = (\n",
    "    \"https://webdav.grid.surfsara.nl:2880\"\n",
    "    \"/pnfs/grid.sara.nl/data/eratosthenes/\"\n",
    "    \"disk/GIS/Glacier\"\n",
    ")\n",
    "rgi_index_url = f\"{rgi_root_url}/00_rgi60_regions.zip\"\n",
    "tmp_path = \"./\"\n",
    "rgi_tiles_url = (\n",
    "    \"https://webdav.grid.surfsara.nl:2880\"\n",
    "    \"/pnfs/grid.sara.nl/data/eratosthenes/\"\n",
    "    \"disk/RasterRGI_tiles_sentinel-2\"\n",
    ")"
   ]
  },
  {
   "cell_type": "code",
   "execution_count": 3,
   "id": "superior-scanner",
   "metadata": {},
   "outputs": [],
   "source": [
    "# configure connection to dCache\n",
    "dcache = stac2dcache.configure(\n",
    "    filesystem=\"dcache\", \n",
    "    token_filename=\"macaroon.dat\"\n",
    ")\n",
    "dcache.api_url = \"https://dcacheview.grid.surfsara.nl:22880/api/v1\""
   ]
  },
  {
   "cell_type": "code",
   "execution_count": 4,
   "id": "after-highway",
   "metadata": {},
   "outputs": [],
   "source": [
    "# read RGI index\n",
    "with dcache.open(rgi_index_url) as f:\n",
    "    rgi_index = geopandas.read_file(f)"
   ]
  },
  {
   "cell_type": "code",
   "execution_count": 5,
   "id": "reduced-medium",
   "metadata": {},
   "outputs": [],
   "source": [
    "def read_catalog(url):\n",
    "    \"\"\"\n",
    "    Read STAC catalog from URL\n",
    "    \n",
    "    :param url: urlpath to the catalog root\n",
    "    :return: PySTAC Catalog object\n",
    "    \"\"\"\n",
    "    url = url if url.endswith(\"catalog.json\") else f\"{url}/catalog.json\"\n",
    "    catalog = pystac.Catalog.from_file(url)\n",
    "    return catalog"
   ]
  },
  {
   "cell_type": "code",
   "execution_count": 6,
   "id": "arbitrary-birthday",
   "metadata": {},
   "outputs": [],
   "source": [
    "# read image catalog\n",
    "catalog = read_catalog(catalog_url)\n",
    "subcatalog = catalog.get_child(collection_id)"
   ]
  },
  {
   "cell_type": "code",
   "execution_count": 7,
   "id": "inclusive-affect",
   "metadata": {},
   "outputs": [],
   "source": [
    "TILE_ID_KEYS = [\n",
    "    \"sentinel:utm_zone\", \n",
    "    \"sentinel:latitude_band\", \n",
    "    \"sentinel:grid_square\"\n",
    "] \n",
    "def get_sentinel2_tile_id(item):\n",
    "    \"\"\"\n",
    "    Construct the tile ID for a Sentinel-2 STAC item\n",
    "    \n",
    "    :param item: PySTAC Item object\n",
    "    :return: tile ID\n",
    "    \"\"\"\n",
    "    return \"\".join([\n",
    "        str(item.properties[k]) for k in TILE_ID_KEYS\n",
    "    ])"
   ]
  },
  {
   "cell_type": "code",
   "execution_count": 8,
   "id": "occasional-elephant",
   "metadata": {},
   "outputs": [
    {
     "data": {
      "text/plain": [
       "{'5VMG': <Item id=S2B_5VMG_20210329_0_L1C>}"
      ]
     },
     "execution_count": 8,
     "metadata": {},
     "output_type": "execute_result"
    }
   ],
   "source": [
    "# loop over catalog, look for all the tiles presents\n",
    "tiles = {}\n",
    "for item in subcatalog.get_all_items():\n",
    "    tile_id = get_sentinel2_tile_id(item)\n",
    "    if tile_id not in tiles:\n",
    "        tiles[tile_id] = item\n",
    "tiles"
   ]
  },
  {
   "cell_type": "code",
   "execution_count": 9,
   "id": "featured-staff",
   "metadata": {},
   "outputs": [],
   "source": [
    "def get_itersecting_RGI_regions(index, geometry):\n",
    "    \"\"\" \n",
    "    Find the RGI regions that intersect the geometry and return the \n",
    "    corresponding RGI codes. NOTE: the geometries need to be in the \n",
    "    same CRS!\n",
    "    \n",
    "    :param index: RGI region index (GeoDataFrame)\n",
    "    :param geometry: shapely geometry object\n",
    "    :returl: RGI code array\n",
    "    \"\"\"\n",
    "    mask = index.intersects(geometry)\n",
    "    index = index[mask]\n",
    "    return index.RGI_CODE"
   ]
  },
  {
   "cell_type": "code",
   "execution_count": 10,
   "id": "useful-methodology",
   "metadata": {},
   "outputs": [
    {
     "name": "stdout",
     "output_type": "stream",
     "text": [
      "GDAL headers saved to: /var/folders/t6/r2gjczqj7bb8798wr4g1p87m0000gn/T/tmpa8ahdkd9\n"
     ]
    }
   ],
   "source": [
    "# loop over identified tiles\n",
    "for tile_id, item in tiles.items():\n",
    "\n",
    "    da = get_asset(\n",
    "        catalog,\n",
    "        asset_key=\"B02\",\n",
    "        item_id=item.id,\n",
    "        filesystem=dcache,\n",
    "        load=False\n",
    "    )\n",
    "    bbox = da.rio.bounds()\n",
    "    crs = da.spatial_ref.crs_wkt\n",
    "    transform = da.rio.transform()\n",
    "    \n",
    "    tile_geometry = Polygon.from_bounds(\n",
    "        *da.rio.transform_bounds(rgi_index.crs)\n",
    "    )\n",
    "    rgi_codes = get_itersecting_RGI_regions(\n",
    "        rgi_index,\n",
    "        tile_geometry\n",
    "    )\n",
    "    \n",
    "    assert len(rgi_codes) == 1, \"Only one RGI region implemented!\"\n",
    "    \n",
    "    rgi_code = rgi_codes.iloc[0]\n",
    "    rgi_region_path = dcache.glob(f\"{rgi_root_url}/{rgi_code:02d}_rgi60_*.zip\")\n",
    "    rgi_region_path = rgi_region_path.pop()\n",
    "\n",
    "    with tempfile.TemporaryDirectory(dir=tmp_path) as tmpdir:\n",
    "    \n",
    "        remote_path = pathlib.Path(rgi_region_path)\n",
    "        local_path = pathlib.Path(tmpdir) / remote_path.name\n",
    "        dcache.download(remote_path.as_posix(), local_path.as_posix())\n",
    "        with zipfile.ZipFile(local_path, \"r\") as f:\n",
    "            f.extractall(path=tmpdir)\n",
    "        shapefile = local_path.with_suffix(\".shp\")\n",
    "        shapefile_utm = shapefile.with_name(\"utm.shp\")\n",
    "        \n",
    "        ll2utm(shapefile.as_posix(), shapefile_utm.as_posix(), crs)\n",
    "        shape2raster(shapefile_utm.as_posix(), tile_id, transform.to_gdal(), da.y.size, da.x.size)\n",
    "        \n",
    "    # save raster file and upload it\n",
    "    output_file = f\"{tile_id}.tif\"\n",
    "    dcache.upload(output_file, f\"{rgi_tiles_url}/{output_file}\")"
   ]
  }
 ],
 "metadata": {
  "kernelspec": {
   "display_name": "Python 3 (ipykernel)",
   "language": "python",
   "name": "python3"
  },
  "language_info": {
   "codemirror_mode": {
    "name": "ipython",
    "version": 3
   },
   "file_extension": ".py",
   "mimetype": "text/x-python",
   "name": "python",
   "nbconvert_exporter": "python",
   "pygments_lexer": "ipython3",
   "version": "3.8.10"
  }
 },
 "nbformat": 4,
 "nbformat_minor": 5
}
