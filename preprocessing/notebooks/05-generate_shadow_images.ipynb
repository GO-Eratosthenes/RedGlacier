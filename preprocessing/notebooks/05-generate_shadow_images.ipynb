{
 "cells": [
  {
   "cell_type": "code",
   "execution_count": 1,
   "id": "novel-diagram",
   "metadata": {},
   "outputs": [],
   "source": [
    "import pathlib\n",
    "import tempfile\n",
    "import zipfile\n",
    "\n",
    "import geopandas\n",
    "import pystac\n",
    "import stac2dcache\n",
    "import urlpath\n",
    "\n",
    "from shapely.geometry import Polygon\n",
    "from stac2dcache.utils import get_asset\n",
    "\n",
    "from eratosthenes.preprocessing.handler_multispec import get_shadow_bands\n",
    "from eratosthenes.preprocessing.shadow_transforms import enhance_shadow\n",
    "from eratosthenes.preprocessing.shadow_geometry import shadow_image_to_list, create_shadow_polygons\n",
    "from eratosthenes.generic.mapping_io import makeGeoIm"
   ]
  },
  {
   "cell_type": "markdown",
   "id": "considerable-maker",
   "metadata": {},
   "source": [
    "# Generate shadow-enhanced images"
   ]
  },
  {
   "cell_type": "code",
   "execution_count": 2,
   "id": "advised-andorra",
   "metadata": {},
   "outputs": [],
   "source": [
    "catalog_url = (\"https://webdav.grid.surfsara.nl:2880\"\n",
    "               \"/pnfs/grid.sara.nl/data/eratosthenes/\"\n",
    "               \"disk/red-glacier_sentinel-2\")\n",
    "collection_id = \"sentinel-s2-l1c\""
   ]
  },
  {
   "cell_type": "code",
   "execution_count": 3,
   "id": "earned-consultancy",
   "metadata": {},
   "outputs": [],
   "source": [
    "# configure connection to dCache\n",
    "dcache = stac2dcache.configure(\n",
    "    filesystem=\"dcache\", \n",
    "    token_filename=\"macaroon.dat\"\n",
    ")\n",
    "# dcache.api_url = \"https://dcacheview.grid.surfsara.nl:22880/api/v1\""
   ]
  },
  {
   "cell_type": "code",
   "execution_count": 4,
   "id": "preceding-hollow",
   "metadata": {},
   "outputs": [],
   "source": [
    "def read_catalog(url):\n",
    "    \"\"\"\n",
    "    Read STAC catalog from URL\n",
    "    \n",
    "    :param url: urlpath to the catalog root\n",
    "    :return: PySTAC Catalog object\n",
    "    \"\"\"\n",
    "    url = url if url.endswith(\"catalog.json\") else f\"{url}/catalog.json\"\n",
    "    catalog = pystac.Catalog.from_file(url)\n",
    "    return catalog"
   ]
  },
  {
   "cell_type": "code",
   "execution_count": 5,
   "id": "molecular-backing",
   "metadata": {},
   "outputs": [],
   "source": [
    "# read image catalog\n",
    "catalog = read_catalog(catalog_url)\n",
    "subcatalog = catalog.get_child(collection_id)"
   ]
  },
  {
   "cell_type": "code",
   "execution_count": 6,
   "id": "solid-receiver",
   "metadata": {},
   "outputs": [],
   "source": [
    "# TILE_ID_KEYS = [\n",
    "#     \"sentinel:utm_zone\", \n",
    "#     \"sentinel:latitude_band\", \n",
    "#     \"sentinel:grid_square\"\n",
    "# ] \n",
    "# def get_sentinel2_tile_id(item):\n",
    "#     \"\"\"\n",
    "#     Construct the tile ID for a Sentinel-2 STAC item\n",
    "    \n",
    "#     :param item: PySTAC Item object\n",
    "#     :return: tile ID\n",
    "#     \"\"\"\n",
    "#     return \"\".join([\n",
    "#         str(item.properties[k]) for k in TILE_ID_KEYS\n",
    "#     ])"
   ]
  },
  {
   "cell_type": "code",
   "execution_count": 7,
   "id": "wireless-venue",
   "metadata": {},
   "outputs": [],
   "source": [
    "items = catalog.get_all_items()"
   ]
  },
  {
   "cell_type": "code",
   "execution_count": 8,
   "id": "later-pickup",
   "metadata": {},
   "outputs": [
    {
     "data": {
      "text/plain": [
       "<Item id=S2B_5VMG_20210329_0_L1C>"
      ]
     },
     "execution_count": 8,
     "metadata": {},
     "output_type": "execute_result"
    }
   ],
   "source": [
    "item = next(items)\n",
    "item"
   ]
  },
  {
   "cell_type": "code",
   "execution_count": 9,
   "id": "light-visit",
   "metadata": {},
   "outputs": [
    {
     "data": {
      "text/plain": [
       "{'datetime': '2021-03-29T21:58:42Z',\n",
       " 'platform': 'sentinel-2b',\n",
       " 'constellation': 'sentinel-2',\n",
       " 'instruments': ['msi'],\n",
       " 'gsd': 10,\n",
       " 'view:off_nadir': 0,\n",
       " 'proj:epsg': 32605,\n",
       " 'sentinel:utm_zone': 5,\n",
       " 'sentinel:latitude_band': 'V',\n",
       " 'sentinel:grid_square': 'MG',\n",
       " 'sentinel:sequence': '0',\n",
       " 'sentinel:product_id': 'S2B_MSIL1C_20210329T215529_N0209_R029_T05VMG_20210329T223033',\n",
       " 'sentinel:data_coverage': 20.11,\n",
       " 'eo:cloud_cover': 99.99,\n",
       " 'created': '2021-03-30T07:38:41.779Z',\n",
       " 'updated': '2021-03-30T07:38:41.779Z'}"
      ]
     },
     "execution_count": 9,
     "metadata": {},
     "output_type": "execute_result"
    }
   ],
   "source": [
    "item.properties"
   ]
  },
  {
   "cell_type": "code",
   "execution_count": 10,
   "id": "powered-affiliate",
   "metadata": {},
   "outputs": [],
   "source": [
    "bands = get_shadow_bands(collection_id)\n",
    "asset_keys = [f\"B{b:02}\" for b in bands]\n",
    "\n",
    "assets = []\n",
    "for asset_key in asset_keys:\n",
    "    assets.append(\n",
    "        get_asset(\n",
    "            catalog,\n",
    "            asset_key=asset_key,\n",
    "            item_id=item.id,\n",
    "            filesystem=dcache\n",
    "        )\n",
    "    )"
   ]
  },
  {
   "cell_type": "code",
   "execution_count": 11,
   "id": "capable-messenger",
   "metadata": {},
   "outputs": [],
   "source": [
    "shadow_transform = \"ruffenacht\""
   ]
  },
  {
   "cell_type": "code",
   "execution_count": 12,
   "id": "accurate-aggregate",
   "metadata": {},
   "outputs": [],
   "source": [
    "metadata = get_asset(\n",
    "    catalog,\n",
    "    asset_key='metadata',\n",
    "    item_id=item.id,\n",
    "    filesystem=dcache\n",
    ")\n",
    "with open(\"MTD_TL.xml\", 'w') as f:\n",
    "    f.write(metadata)"
   ]
  },
  {
   "cell_type": "code",
   "execution_count": 13,
   "id": "naval-turning",
   "metadata": {},
   "outputs": [],
   "source": [
    "crs = assets[0].spatial_ref.crs_wkt\n",
    "transform = assets[0].rio.transform()\n",
    "B, G, R, NIR = (a.squeeze().data for a in assets)\n",
    "shadow = enhance_shadow(\n",
    "    shadow_transform, Blue=B, Green=G, Red=R, Nir=NIR, RedEdge=None, Shw=None\n",
    ")"
   ]
  },
  {
   "cell_type": "code",
   "execution_count": 14,
   "id": "ahead-linux",
   "metadata": {},
   "outputs": [],
   "source": [
    "output_file = f\"{item.id}_shadow.tif\"\n",
    "makeGeoIm(\n",
    "    shadow, transform.to_gdal(), crs, output_file,\n",
    "    meta_descr=shadow_transform, \n",
    "    date_created=item.datetime.strftime(\"%Y:%m:%d %H:%M:%S\")\n",
    ")"
   ]
  },
  {
   "cell_type": "code",
   "execution_count": 15,
   "id": "under-demographic",
   "metadata": {},
   "outputs": [
    {
     "data": {
      "text/plain": [
       "<matplotlib.image.AxesImage at 0x7f95a21e6040>"
      ]
     },
     "execution_count": 15,
     "metadata": {},
     "output_type": "execute_result"
    },
    {
     "data": {
      "image/png": "[encoded data removed]",
      "text/plain": [
       "<Figure size 432x288 with 2 Axes>"
      ]
     },
     "metadata": {
      "needs_background": "light"
     },
     "output_type": "display_data"
    }
   ],
   "source": [
    "import rioxarray as rioxr\n",
    "da = rioxr.open_rasterio(output_file)\n",
    "da.squeeze().plot.imshow()"
   ]
  },
  {
   "cell_type": "code",
   "execution_count": 16,
   "id": "blind-transparency",
   "metadata": {},
   "outputs": [],
   "source": [
    "shadow_image_to_list(\n",
    "    shadow, transform.to_gdal(), \"./\", {'bbox': None}\n",
    ")"
   ]
  },
  {
   "cell_type": "code",
   "execution_count": 17,
   "id": "choice-honey",
   "metadata": {},
   "outputs": [
    {
     "name": "stdout",
     "output_type": "stream",
     "text": [
      "For shadowpolygon #1: Its size is 18 by 51, connecting 68 pixels in total\n",
      "polygon done\n",
      "For shadowpolygon #2: Its size is 10979 by 10979, connecting 21955 pixels in total\n",
      "polygon done\n",
      "For shadowpolygon #3: Its size is 12 by 8, connecting 14 pixels in total\n",
      "polygon done\n",
      "For shadowpolygon #4: Its size is 10 by 9, connecting 10 pixels in total\n",
      "polygon done\n",
      "For shadowpolygon #5: Its size is 34 by 55, connecting 68 pixels in total\n",
      "polygon done\n",
      "For shadowpolygon #6: Its size is 23 by 39, connecting 49 pixels in total\n",
      "polygon done\n",
      "For shadowpolygon #7: Its size is 458 by 759, connecting 1743 pixels in total\n",
      "polygon done\n",
      "For shadowpolygon #8: Its size is 5 by 10, connecting 10 pixels in total\n",
      "polygon done\n",
      "For shadowpolygon #9: Its size is 3 by 3, connecting 2 pixels in total\n",
      "polygon done\n",
      "For shadowpolygon #10: Its size is 12 by 5, connecting 13 pixels in total\n",
      "polygon done\n",
      "For shadowpolygon #11: Its size is 33 by 36, connecting 47 pixels in total\n",
      "polygon done\n",
      "For shadowpolygon #12: Its size is 25 by 17, connecting 24 pixels in total\n",
      "polygon done\n",
      "For shadowpolygon #13: Its size is 14 by 13, connecting 20 pixels in total\n",
      "polygon done\n",
      "For shadowpolygon #14: Its size is 15 by 52, connecting 54 pixels in total\n",
      "polygon done\n",
      "For shadowpolygon #15: Its size is 2 by 5, connecting 1 pixels in total\n",
      "polygon done\n",
      "For shadowpolygon #16: Its size is 11 by 27, connecting 28 pixels in total\n",
      "polygon done\n",
      "For shadowpolygon #17: Its size is 12 by 9, connecting 11 pixels in total\n",
      "polygon done\n",
      "For shadowpolygon #18: Its size is 88 by 40, connecting 92 pixels in total\n",
      "polygon done\n"
     ]
    }
   ],
   "source": [
    "(labels, cast_conn) = create_shadow_polygons(shadow, \"./\")"
   ]
  },
  {
   "cell_type": "code",
   "execution_count": 18,
   "id": "driving-turtle",
   "metadata": {},
   "outputs": [],
   "source": [
    "output_file = f\"{item.id}_polygons.tif\"\n",
    "makeGeoIm(\n",
    "    labels, transform.to_gdal(), crs, output_file, no_dat=-9999,\n",
    "    date_created=item.datetime.strftime(\"%Y:%m:%d %H:%M:%S\")\n",
    ")"
   ]
  },
  {
   "cell_type": "code",
   "execution_count": 19,
   "id": "aquatic-portal",
   "metadata": {},
   "outputs": [],
   "source": [
    "output_file = f\"{item.id}_castconn.tif\"\n",
    "makeGeoIm(\n",
    "    cast_conn, transform.to_gdal(), crs, output_file, no_dat=-9999,\n",
    "    date_created=item.datetime.strftime(\"%Y:%m:%d %H:%M:%S\")\n",
    ")"
   ]
  },
  {
   "cell_type": "code",
   "execution_count": 18,
   "id": "polar-linux",
   "metadata": {},
   "outputs": [],
   "source": [
    "shadows_catalog = pystac.Catalog(\n",
    "    id=\"red-glacier_sentinel-2_shadows\",\n",
    "    description=(\"Shadow enhanced Sentinel-2 tiles \"\n",
    "                 \"for the Red Glacier (Alaska)\")\n",
    ")"
   ]
  },
  {
   "cell_type": "code",
   "execution_count": 21,
   "id": "heard-letters",
   "metadata": {},
   "outputs": [
    {
     "data": {
      "text/plain": [
       "<matplotlib.image.AxesImage at 0x7f932f1fe400>"
      ]
     },
     "execution_count": 21,
     "metadata": {},
     "output_type": "execute_result"
    },
    {
     "data": {
      "image/png": "[encoded data removed]",
      "text/plain": [
       "<Figure size 432x288 with 2 Axes>"
      ]
     },
     "metadata": {
      "needs_background": "light"
     },
     "output_type": "display_data"
    }
   ],
   "source": [
    "output_file = f\"{item.id}_polygons.tif\"\n",
    "da = rioxr.open_rasterio(output_file)\n",
    "da.squeeze().plot.imshow()"
   ]
  },
  {
   "cell_type": "code",
   "execution_count": 77,
   "id": "patient-brighton",
   "metadata": {},
   "outputs": [
    {
     "name": "stdout",
     "output_type": "stream",
     "text": [
      "GDAL headers saved to: /var/folders/t6/r2gjczqj7bb8798wr4g1p87m0000gn/T/tmpy6jtkan9\n"
     ]
    }
   ],
   "source": [
    "# loop over identified tiles\n",
    "with tempfile.TemporaryDirectory(dir=tmp_path) as tmpdir:\n",
    "    \n",
    "    local_path = pathlib.Path(tmpdir) \n",
    "\n",
    "    url = urlpath.URL(gshhs_url)\n",
    "    remote_shp_path = pathlib.Path(url.path)\n",
    "    remote_regex_path = remote_shp_path.with_suffix(\".*\")\n",
    "    remote_paths = dcache.glob(remote_regex_path.as_posix())\n",
    "    \n",
    "    # get (all parts of) shapefile\n",
    "    for remote_path in remote_paths:\n",
    "        path = pathlib.Path(remote_path)\n",
    "        dcache.download(\n",
    "            path.as_posix(), \n",
    "            (local_path/path.name).as_posix()\n",
    "        )\n",
    "        \n",
    "    local_shp_path = local_path/remote_shp_path.name\n",
    "    gshhs = geopandas.read_file(local_shp_path)\n",
    "        \n",
    "    for tile_id, item in tiles.items():\n",
    "\n",
    "        da = get_asset(\n",
    "            catalog,\n",
    "            asset_key=\"B02\",\n",
    "            item_id=item.id,\n",
    "            filesystem=dcache,\n",
    "            load=False\n",
    "        )\n",
    "        bbox = da.rio.bounds()\n",
    "        crs = da.spatial_ref.crs_wkt\n",
    "        transform = da.rio.transform()\n",
    "\n",
    "        tile_geometry = Polygon.from_bounds(\n",
    "            *da.rio.transform_bounds(gshhs.crs)\n",
    "        )\n",
    "        \n",
    "        mask = gshhs.intersects(tile_geometry)\n",
    "        gshhs_sub = gshhs[mask]\n",
    "        res = gshhs_sub.intersection(tile_geometry)\n",
    "        \n",
    "        shape_utm = geopandas.GeoDataFrame(\n",
    "            dict(\n",
    "                land=[1], \n",
    "                geometry=[res.to_crs(crs).unary_union]\n",
    "            ), \n",
    "            crs=res.crs\n",
    "        )\n",
    "        local_shp_utm_path = local_shp_path.with_name(\n",
    "            local_shp_path.stem + \"_utm.shp\"\n",
    "        )\n",
    "        shape_utm.to_file(local_shp_utm_path.as_posix())\n",
    "        shape2raster(local_shp_utm_path.as_posix(), tile_id, transform.to_gdal(), \n",
    "                     da.y.size, da.x.size, aoi=\"land\")\n",
    "\n",
    "        # save raster file and upload it\n",
    "        output_file = f\"{tile_id}.tif\"\n",
    "        dcache.upload(output_file, f\"{gshhs_tiles_url}/{output_file}\")"
   ]
  }
 ],
 "metadata": {
  "kernelspec": {
   "display_name": "Python 3",
   "language": "python",
   "name": "python3"
  },
  "language_info": {
   "codemirror_mode": {
    "name": "ipython",
    "version": 3
   },
   "file_extension": ".py",
   "mimetype": "text/x-python",
   "name": "python",
   "nbconvert_exporter": "python",
   "pygments_lexer": "ipython3",
   "version": "3.8.8"
  }
 },
 "nbformat": 4,
 "nbformat_minor": 5
}
