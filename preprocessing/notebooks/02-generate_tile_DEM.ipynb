{
 "cells": [
  {
   "cell_type": "code",
   "execution_count": 1,
   "id": "ordinary-render",
   "metadata": {},
   "outputs": [],
   "source": [
    "import pathlib\n",
    "import tempfile\n",
    "\n",
    "import geopandas\n",
    "import pystac\n",
    "import rioxarray\n",
    "import rioxarray.merge\n",
    "import stac2dcache\n",
    "\n",
    "from shapely.geometry import Polygon\n",
    "from stac2dcache.utils import get_asset\n",
    "from eratosthenes.generic.handler_www import get_tar_file"
   ]
  },
  {
   "cell_type": "markdown",
   "id": "optimum-owner",
   "metadata": {},
   "source": [
    "# Retile DEM according to Sentinel-2 scheme"
   ]
  },
  {
   "cell_type": "code",
   "execution_count": 21,
   "id": "public-supervision",
   "metadata": {},
   "outputs": [],
   "source": [
    "catalog_url = (\"https://webdav.grid.surfsara.nl:2880\"\n",
    "               \"/pnfs/grid.sara.nl/data/eratosthenes/\"\n",
    "               \"disk/red-glacier_sentinel-2\")\n",
    "collection_id = \"sentinel-s2-l1c\"\n",
    "dem_index_url = (\n",
    "    \"https://webdav.grid.surfsara.nl:2880\"\n",
    "    \"/pnfs/grid.sara.nl/data/eratosthenes/\"\n",
    "    \"disk/GIS/Elevation/ArcticDEM_Tile_Index_Rel7_10m.geojson\"\n",
    ")\n",
    "tmp_path = \"./\"\n",
    "dem_tiles_url = (\n",
    "    \"https://webdav.grid.surfsara.nl:2880\"\n",
    "    \"/pnfs/grid.sara.nl/data/eratosthenes/\"\n",
    "    \"disk/ArcticDEM_tiles_sentinel-2\"\n",
    ")"
   ]
  },
  {
   "cell_type": "code",
   "execution_count": 3,
   "id": "robust-suicide",
   "metadata": {},
   "outputs": [],
   "source": [
    "# configure connection to dCache\n",
    "dcache = stac2dcache.configure(\n",
    "    filesystem=\"dcache\", \n",
    "    token_filename=\"macaroon.dat\"\n",
    ")"
   ]
  },
  {
   "cell_type": "code",
   "execution_count": 4,
   "id": "furnished-campus",
   "metadata": {},
   "outputs": [],
   "source": [
    "# read DEM index\n",
    "with dcache.open(dem_index_url) as f:\n",
    "    dem_index = geopandas.read_file(f)"
   ]
  },
  {
   "cell_type": "code",
   "execution_count": 5,
   "id": "exact-carol",
   "metadata": {},
   "outputs": [],
   "source": [
    "def read_catalog(url):\n",
    "    \"\"\"\n",
    "    Read STAC catalog from URL\n",
    "    \n",
    "    :param url: urlpath to the catalog root\n",
    "    :return: PySTAC Catalog object\n",
    "    \"\"\"\n",
    "    url = url if url.endswith(\"catalog.json\") else f\"{url}/catalog.json\"\n",
    "    catalog = pystac.Catalog.from_file(url)\n",
    "    return catalog"
   ]
  },
  {
   "cell_type": "code",
   "execution_count": 6,
   "id": "democratic-marriage",
   "metadata": {},
   "outputs": [],
   "source": [
    "# read image catalog\n",
    "catalog = read_catalog(catalog_url)\n",
    "subcatalog = catalog.get_child(collection_id)"
   ]
  },
  {
   "cell_type": "code",
   "execution_count": 7,
   "id": "identical-martin",
   "metadata": {},
   "outputs": [],
   "source": [
    "TILE_ID_KEYS = [\n",
    "    \"sentinel:utm_zone\", \n",
    "    \"sentinel:latitude_band\", \n",
    "    \"sentinel:grid_square\"\n",
    "] \n",
    "def get_sentinel2_tile_id(item):\n",
    "    \"\"\"\n",
    "    Construct the tile ID for a Sentinel-2 STAC item\n",
    "    \n",
    "    :param item: PySTAC Item object\n",
    "    :return: tile ID\n",
    "    \"\"\"\n",
    "    return \"\".join([\n",
    "        str(item.properties[k]) for k in TILE_ID_KEYS\n",
    "    ])"
   ]
  },
  {
   "cell_type": "code",
   "execution_count": 10,
   "id": "hearing-persian",
   "metadata": {},
   "outputs": [
    {
     "data": {
      "text/plain": [
       "{'5VMG': <Item id=S2B_5VMG_20210329_0_L1C>}"
      ]
     },
     "execution_count": 10,
     "metadata": {},
     "output_type": "execute_result"
    }
   ],
   "source": [
    "# loop over catalog, look for all the tiles presents\n",
    "tiles = {}\n",
    "for item in subcatalog.get_all_items():\n",
    "    tile_id = get_sentinel2_tile_id(item)\n",
    "    if tile_id not in tiles:\n",
    "        tiles[tile_id] = item\n",
    "tiles"
   ]
  },
  {
   "cell_type": "code",
   "execution_count": 18,
   "id": "meaning-introduction",
   "metadata": {},
   "outputs": [],
   "source": [
    "def get_itersecting_DEM_tile_URLs(index, geometry):\n",
    "    \"\"\" \n",
    "    Find the DEM tiles that intersect the geometry and extract the\n",
    "    URLs from the index. NOTE: the geometries need to be in the \n",
    "    same CRS!\n",
    "    \n",
    "    :param index: DEM tile index (GeoDataFrame)\n",
    "    :param geometry: shapely geometry object\n",
    "    :returl: URL array\n",
    "    \"\"\"\n",
    "    mask = index.intersects(tile_geometry)\n",
    "    index = index[mask]\n",
    "    return index.fileurl"
   ]
  },
  {
   "cell_type": "code",
   "execution_count": 19,
   "id": "square-wiring",
   "metadata": {},
   "outputs": [],
   "source": [
    "def download_and_mosaic(url_list, tmp_path, bbox, crs, transform):\n",
    "    \"\"\"\n",
    "    Download DEM tiles and create mosaic according to satellite imagery tiling\n",
    "    scheme\n",
    "    \n",
    "    :param url_list: list of DEM tile URLs\n",
    "    :param tmp_path: work path where to download and untar DEM tiles\n",
    "    :param bbox: bound box (xmin, ymin, xmax, ymax)\n",
    "    :param crs: coordinate reference system of the DEM tile\n",
    "    :param transform: Affine transform of the DEM tile\n",
    "    :return: retiled DEM (DataArray object) \n",
    "    \"\"\"\n",
    "    with tempfile.TemporaryDirectory(dir=tmp_path) as tmpdir:\n",
    "    \n",
    "        for url in url_list:\n",
    "            get_tar_file(url, tmpdir)\n",
    "\n",
    "        dem_tiles_filename = pathlib.Path(tmpdir).glob(\"*_dem.tif\")\n",
    "        dem_tiles = [rioxarray.open_rasterio(f) for f in dem_tiles_filename]\n",
    "\n",
    "        # merge DEM tiles\n",
    "        dem = rioxarray.merge.merge_arrays(dem_tiles)\n",
    "\n",
    "        # reproject to image CRS\n",
    "        dem_reproj = dem.rio.reproject(crs, transform=transform)\n",
    "\n",
    "        # crop area within tile\n",
    "        dem_clip = dem_reproj.rio.clip_box(*bbox)\n",
    "    \n",
    "    return dem_clip"
   ]
  },
  {
   "cell_type": "code",
   "execution_count": 20,
   "id": "dense-thesaurus",
   "metadata": {},
   "outputs": [
    {
     "name": "stdout",
     "output_type": "stream",
     "text": [
      "GDAL headers saved to: /var/folders/t6/r2gjczqj7bb8798wr4g1p87m0000gn/T/tmpdhfo07i6\n"
     ]
    }
   ],
   "source": [
    "# loop over identified tiles\n",
    "for tile_id, item in tiles.items():\n",
    "\n",
    "    da = get_asset(\n",
    "        catalog,\n",
    "        asset_key=\"B02\",\n",
    "        item_id=item.id,\n",
    "        filesystem=dcache,\n",
    "        load=False\n",
    "    )\n",
    "    bbox = da.rio.bounds()\n",
    "    crs = da.spatial_ref.crs_wkt\n",
    "    transform = da.rio.transform()\n",
    "    \n",
    "    tile_geometry = Polygon.from_bounds(*bbox)\n",
    "    urls = get_itersecting_DEM_tile_URLs(\n",
    "        dem_index.to_crs(crs),\n",
    "        tile_geometry\n",
    "    )\n",
    "    \n",
    "    dem = download_and_mosaic(urls, tmp_path, bbox, crs, transform)\n",
    "    \n",
    "    # save raster file and upload it\n",
    "    output_file = f\"{tile_id}.tif\"\n",
    "    dem.rio.to_raster(output_file)\n",
    "    dcache.upload(output_file, f\"{dem_tiles_url}/{output_file}\")"
   ]
  }
 ],
 "metadata": {
  "kernelspec": {
   "display_name": "Python 3",
   "language": "python",
   "name": "python3"
  },
  "language_info": {
   "codemirror_mode": {
    "name": "ipython",
    "version": 3
   },
   "file_extension": ".py",
   "mimetype": "text/x-python",
   "name": "python",
   "nbconvert_exporter": "python",
   "pygments_lexer": "ipython3",
   "version": "3.8.8"
  }
 },
 "nbformat": 4,
 "nbformat_minor": 5
}
