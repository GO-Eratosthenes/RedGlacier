{
 "cells": [
  {
   "cell_type": "code",
   "execution_count": 11,
   "id": "intellectual-return",
   "metadata": {},
   "outputs": [],
   "source": [
    "import pathlib\n",
    "import tempfile\n",
    "\n",
    "import geopandas\n",
    "import pystac\n",
    "import rioxarray\n",
    "import rioxarray.merge\n",
    "import stac2dcache\n",
    "\n",
    "from shapely.geometry import Polygon\n",
    "from stac2dcache.utils import get_asset\n",
    "from eratosthenes.generic.handler_www import get_tar_file"
   ]
  },
  {
   "cell_type": "code",
   "execution_count": 2,
   "id": "entertaining-murder",
   "metadata": {},
   "outputs": [],
   "source": [
    "catalog_url = (\"https://webdav.grid.surfsara.nl:2880\"\n",
    "               \"/pnfs/grid.sara.nl/data/eratosthenes/\"\n",
    "               \"disk/red-glacier_sentinel-2\")\n",
    "collection_id = \"sentinel-s2-l1c\"\n",
    "dem_index_url = (\n",
    "    \"https://webdav.grid.surfsara.nl:2880\"\n",
    "    \"/pnfs/grid.sara.nl/data/eratosthenes/\"\n",
    "    \"disk/GIS/Elevation/ArcticDEM_Tile_Index_Rel7_10m.geojson\"\n",
    ")\n",
    "tmp_dir = \"./\""
   ]
  },
  {
   "cell_type": "code",
   "execution_count": 3,
   "id": "timely-executive",
   "metadata": {},
   "outputs": [],
   "source": [
    "# configure connection to dCache\n",
    "dcache = stac2dcache.configure(\n",
    "    filesystem=\"dcache\", \n",
    "    token_filename=\"macaroon.dat\"\n",
    ")"
   ]
  },
  {
   "cell_type": "code",
   "execution_count": 4,
   "id": "written-screening",
   "metadata": {},
   "outputs": [],
   "source": [
    "# read DEM index\n",
    "with dcache.open(dem_index_url) as f:\n",
    "    dem_index = geopandas.read_file(f)"
   ]
  },
  {
   "cell_type": "code",
   "execution_count": 5,
   "id": "deadly-rocket",
   "metadata": {},
   "outputs": [],
   "source": [
    "def read_catalog(url):\n",
    "    \"\"\"\n",
    "    Read STAC catalog from URL\n",
    "    \n",
    "    :param url: urlpath to the catalog root\n",
    "    :return: PyStac Catalog object\n",
    "    \"\"\"\n",
    "    url = url if url.endswith(\"catalog.json\") else f\"{url}/catalog.json\"\n",
    "    catalog = pystac.Catalog.from_file(url)\n",
    "    return catalog"
   ]
  },
  {
   "cell_type": "code",
   "execution_count": 6,
   "id": "introductory-calgary",
   "metadata": {},
   "outputs": [],
   "source": [
    "# read image catalog\n",
    "catalog = read_catalog(catalog_url)\n",
    "subcatalog = catalog.get_child(collection_id)"
   ]
  },
  {
   "cell_type": "code",
   "execution_count": 7,
   "id": "modular-equilibrium",
   "metadata": {},
   "outputs": [
    {
     "data": {
      "text/plain": [
       "20.11"
      ]
     },
     "execution_count": 7,
     "metadata": {},
     "output_type": "execute_result"
    }
   ],
   "source": [
    "# TODO: loop over catalog, look for all the tiles presents and make dictionary\n",
    "tiles = []\n",
    "KEYS = [\n",
    "    \"sentinel:utm_zone\", \n",
    "    \"sentinel:latitude_band\", \n",
    "    \"sentinel:grid_square\"\n",
    "] \n",
    "\n",
    "####\n",
    "# for item in subcatalog.get_all_items():\n",
    "####\n",
    "items = subcatalog.get_all_items()\n",
    "item = next(items)\n",
    "####\n",
    "\n",
    "tile_id = \"\".join([str(item.properties[key]) for key in KEYS])\n",
    "tiles.append(\n",
    "    dict(id=tile_id, item=item)\n",
    ")\n",
    "# select item with largest data_coverage\n",
    "item.properties['sentinel:data_coverage']"
   ]
  },
  {
   "cell_type": "code",
   "execution_count": 8,
   "id": "published-component",
   "metadata": {},
   "outputs": [
    {
     "name": "stdout",
     "output_type": "stream",
     "text": [
      "GDAL headers saved to: /var/folders/t6/r2gjczqj7bb8798wr4g1p87m0000gn/T/tmpx2x9vc2k\n"
     ]
    }
   ],
   "source": [
    "# TODO: loop over tiles\n",
    "\n",
    "###\n",
    "# for tile in tiles:\n",
    "###\n",
    "tile = tiles[0]\n",
    "###\n",
    "\n",
    "item = tile['item']\n",
    "\n",
    "da = get_asset(\n",
    "    catalog,\n",
    "    asset_key=\"B02\",\n",
    "    item_id=item.id,\n",
    "    filesystem=dcache,\n",
    "    load=False\n",
    ")"
   ]
  },
  {
   "cell_type": "code",
   "execution_count": 9,
   "id": "annoying-storm",
   "metadata": {},
   "outputs": [
    {
     "data": {
      "text/html": [
       "<div>\n",
       "<style scoped>\n",
       "    .dataframe tbody tr th:only-of-type {\n",
       "        vertical-align: middle;\n",
       "    }\n",
       "\n",
       "    .dataframe tbody tr th {\n",
       "        vertical-align: top;\n",
       "    }\n",
       "\n",
       "    .dataframe thead th {\n",
       "        text-align: right;\n",
       "    }\n",
       "</style>\n",
       "<table border=\"1\" class=\"dataframe\">\n",
       "  <thead>\n",
       "    <tr style=\"text-align: right;\">\n",
       "      <th></th>\n",
       "      <th>tile</th>\n",
       "      <th>fileurl</th>\n",
       "      <th>geometry</th>\n",
       "    </tr>\n",
       "  </thead>\n",
       "  <tbody>\n",
       "    <tr>\n",
       "      <th>1453</th>\n",
       "      <td>51_08</td>\n",
       "      <td>http://data.pgc.umn.edu/elev/dem/setsm/ArcticD...</td>\n",
       "      <td>POLYGON ((536306.646 6623282.652, 551048.710 6...</td>\n",
       "    </tr>\n",
       "    <tr>\n",
       "      <th>1454</th>\n",
       "      <td>51_09</td>\n",
       "      <td>http://data.pgc.umn.edu/elev/dem/setsm/ArcticD...</td>\n",
       "      <td>POLYGON ((506649.406 6714838.166, 521506.591 6...</td>\n",
       "    </tr>\n",
       "    <tr>\n",
       "      <th>1455</th>\n",
       "      <td>51_10</td>\n",
       "      <td>http://data.pgc.umn.edu/elev/dem/setsm/ArcticD...</td>\n",
       "      <td>POLYGON ((476767.162 6806702.367, 491735.967 6...</td>\n",
       "    </tr>\n",
       "    <tr>\n",
       "      <th>1495</th>\n",
       "      <td>52_08</td>\n",
       "      <td>http://data.pgc.umn.edu/elev/dem/setsm/ArcticD...</td>\n",
       "      <td>POLYGON ((445022.334 6593582.205, 459923.633 6...</td>\n",
       "    </tr>\n",
       "    <tr>\n",
       "      <th>1496</th>\n",
       "      <td>52_09</td>\n",
       "      <td>http://data.pgc.umn.edu/elev/dem/setsm/ArcticD...</td>\n",
       "      <td>POLYGON ((415050.354 6684911.721, 430064.285 6...</td>\n",
       "    </tr>\n",
       "    <tr>\n",
       "      <th>1497</th>\n",
       "      <td>52_10</td>\n",
       "      <td>http://data.pgc.umn.edu/elev/dem/setsm/ArcticD...</td>\n",
       "      <td>POLYGON ((384858.403 6776557.020, 399981.428 6...</td>\n",
       "    </tr>\n",
       "  </tbody>\n",
       "</table>\n",
       "</div>"
      ],
      "text/plain": [
       "       tile                                            fileurl  \\\n",
       "1453  51_08  http://data.pgc.umn.edu/elev/dem/setsm/ArcticD...   \n",
       "1454  51_09  http://data.pgc.umn.edu/elev/dem/setsm/ArcticD...   \n",
       "1455  51_10  http://data.pgc.umn.edu/elev/dem/setsm/ArcticD...   \n",
       "1495  52_08  http://data.pgc.umn.edu/elev/dem/setsm/ArcticD...   \n",
       "1496  52_09  http://data.pgc.umn.edu/elev/dem/setsm/ArcticD...   \n",
       "1497  52_10  http://data.pgc.umn.edu/elev/dem/setsm/ArcticD...   \n",
       "\n",
       "                                               geometry  \n",
       "1453  POLYGON ((536306.646 6623282.652, 551048.710 6...  \n",
       "1454  POLYGON ((506649.406 6714838.166, 521506.591 6...  \n",
       "1455  POLYGON ((476767.162 6806702.367, 491735.967 6...  \n",
       "1495  POLYGON ((445022.334 6593582.205, 459923.633 6...  \n",
       "1496  POLYGON ((415050.354 6684911.721, 430064.285 6...  \n",
       "1497  POLYGON ((384858.403 6776557.020, 399981.428 6...  "
      ]
     },
     "execution_count": 9,
     "metadata": {},
     "output_type": "execute_result"
    }
   ],
   "source": [
    "bbox = da.rio.bounds()\n",
    "crs = da.spatial_ref.crs_wkt\n",
    "transform = da.rio.transform()\n",
    "\n",
    "tile_geometry = Polygon.from_bounds(*bbox)\n",
    "dem_index_reproj = dem_index.to_crs(crs)\n",
    "\n",
    "# select DEM tiles intersecting image bbox\n",
    "mask = dem_index_reproj.intersects(tile_geometry)\n",
    "dem_index_reproj = dem_index_reproj[mask]\n",
    "dem_index_reproj = dem_index_reproj\n",
    "\n",
    "dem_index_reproj"
   ]
  },
  {
   "cell_type": "code",
   "execution_count": 13,
   "id": "altered-campaign",
   "metadata": {},
   "outputs": [],
   "source": [
    "# for url in dem_index_reproj.fileurl:\n",
    "#     get_tar_file(url, \"./DEM\")"
   ]
  },
  {
   "cell_type": "code",
   "execution_count": 12,
   "id": "living-innocent",
   "metadata": {},
   "outputs": [],
   "source": [
    "with tempfile.TemporaryDirectory(dir=tmp_dir) as tmpdir:\n",
    "    \n",
    "    for url in dem_index_reproj.fileurl:\n",
    "        get_tar_file(url, tmpdir)\n",
    "\n",
    "    dem_tiles_filename = pathlib.Path(tmpdir).glob(\"*_dem.tif\")\n",
    "    dem_tiles = [rioxarray.open_rasterio(f) for f in dem_tiles_filename]\n",
    "\n",
    "    # merge DEM tiles\n",
    "    dem = rioxarray.merge.merge_arrays(dem_tiles)\n",
    "\n",
    "    # reproject to image CRS\n",
    "    dem_reproj = dem.rio.reproject(crs, transform=transform)\n",
    "\n",
    "    # crop area within tile\n",
    "    dem_clip = dem_reproj.rio.clip_box(*bbox)\n",
    "    \n",
    "    # save raster file\n",
    "    output_path = f\"{tile['id']}.tif\"\n",
    "    dem_clip.rio.to_raster(output_path)"
   ]
  },
  {
   "cell_type": "code",
   "execution_count": null,
   "id": "stupid-latter",
   "metadata": {},
   "outputs": [],
   "source": []
  }
 ],
 "metadata": {
  "kernelspec": {
   "display_name": "Python 3",
   "language": "python",
   "name": "python3"
  },
  "language_info": {
   "codemirror_mode": {
    "name": "ipython",
    "version": 3
   },
   "file_extension": ".py",
   "mimetype": "text/x-python",
   "name": "python",
   "nbconvert_exporter": "python",
   "pygments_lexer": "ipython3",
   "version": "3.8.8"
  }
 },
 "nbformat": 4,
 "nbformat_minor": 5
}
