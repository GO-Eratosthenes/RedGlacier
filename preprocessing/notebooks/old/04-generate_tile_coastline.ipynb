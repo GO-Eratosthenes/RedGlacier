{
 "cells": [
  {
   "cell_type": "code",
   "execution_count": 18,
   "id": "oriented-alignment",
   "metadata": {},
   "outputs": [],
   "source": [
    "import pathlib\n",
    "import tempfile\n",
    "import zipfile\n",
    "\n",
    "import geopandas\n",
    "import pystac\n",
    "import stac2dcache\n",
    "import urlpath\n",
    "\n",
    "from shapely.geometry import Polygon\n",
    "from stac2dcache.utils import get_asset\n",
    "\n",
    "from eratosthenes.generic.gis_tools import ll2utm, shape2raster"
   ]
  },
  {
   "cell_type": "markdown",
   "id": "listed-clock",
   "metadata": {},
   "source": [
    "# Rasterize and retile coastline shape according to Sentinel-2 scheme"
   ]
  },
  {
   "cell_type": "code",
   "execution_count": 3,
   "id": "efficient-netscape",
   "metadata": {},
   "outputs": [],
   "source": [
    "catalog_url = (\"https://webdav.grid.surfsara.nl:2880\"\n",
    "               \"/pnfs/grid.sara.nl/data/eratosthenes/\"\n",
    "               \"disk/red-glacier_sentinel-2\")\n",
    "collection_id = \"sentinel-s2-l1c\"\n",
    "gshhs_url = (\n",
    "    \"https://webdav.grid.surfsara.nl:2880\"\n",
    "    \"/pnfs/grid.sara.nl/data/eratosthenes/\"\n",
    "    \"disk/GIS/Coastline/GSHHS_f_L1.shp\"\n",
    ")\n",
    "tmp_path = \"./\"\n",
    "gshhs_tiles_url = (\n",
    "    \"https://webdav.grid.surfsara.nl:2880\"\n",
    "    \"/pnfs/grid.sara.nl/data/eratosthenes/\"\n",
    "    \"disk/RasterGSHHS_tiles_sentinel-2\"\n",
    ")"
   ]
  },
  {
   "cell_type": "code",
   "execution_count": 4,
   "id": "multiple-platinum",
   "metadata": {},
   "outputs": [],
   "source": [
    "# configure connection to dCache\n",
    "dcache = stac2dcache.configure(\n",
    "    filesystem=\"dcache\", \n",
    "    token_filename=\"macaroon.dat\"\n",
    ")\n",
    "dcache.api_url = \"https://dcacheview.grid.surfsara.nl:22880/api/v1\""
   ]
  },
  {
   "cell_type": "code",
   "execution_count": 5,
   "id": "preliminary-outdoors",
   "metadata": {},
   "outputs": [],
   "source": [
    "def read_catalog(url):\n",
    "    \"\"\"\n",
    "    Read STAC catalog from URL\n",
    "    \n",
    "    :param url: urlpath to the catalog root\n",
    "    :return: PySTAC Catalog object\n",
    "    \"\"\"\n",
    "    url = url if url.endswith(\"catalog.json\") else f\"{url}/catalog.json\"\n",
    "    catalog = pystac.Catalog.from_file(url)\n",
    "    return catalog"
   ]
  },
  {
   "cell_type": "code",
   "execution_count": 6,
   "id": "industrial-auditor",
   "metadata": {},
   "outputs": [],
   "source": [
    "# read image catalog\n",
    "catalog = read_catalog(catalog_url)\n",
    "subcatalog = catalog.get_child(collection_id)"
   ]
  },
  {
   "cell_type": "code",
   "execution_count": 7,
   "id": "anonymous-testimony",
   "metadata": {},
   "outputs": [],
   "source": [
    "TILE_ID_KEYS = [\n",
    "    \"sentinel:utm_zone\", \n",
    "    \"sentinel:latitude_band\", \n",
    "    \"sentinel:grid_square\"\n",
    "] \n",
    "def get_sentinel2_tile_id(item):\n",
    "    \"\"\"\n",
    "    Construct the tile ID for a Sentinel-2 STAC item\n",
    "    \n",
    "    :param item: PySTAC Item object\n",
    "    :return: tile ID\n",
    "    \"\"\"\n",
    "    return \"\".join([\n",
    "        str(item.properties[k]) for k in TILE_ID_KEYS\n",
    "    ])"
   ]
  },
  {
   "cell_type": "code",
   "execution_count": 8,
   "id": "numerical-retreat",
   "metadata": {},
   "outputs": [
    {
     "data": {
      "text/plain": [
       "{'5VMG': <Item id=S2B_5VMG_20210329_0_L1C>}"
      ]
     },
     "execution_count": 8,
     "metadata": {},
     "output_type": "execute_result"
    }
   ],
   "source": [
    "# loop over catalog, look for all the tiles presents\n",
    "tiles = {}\n",
    "for item in subcatalog.get_all_items():\n",
    "    tile_id = get_sentinel2_tile_id(item)\n",
    "    if tile_id not in tiles:\n",
    "        tiles[tile_id] = item\n",
    "tiles"
   ]
  },
  {
   "cell_type": "code",
   "execution_count": 77,
   "id": "juvenile-stamp",
   "metadata": {},
   "outputs": [
    {
     "name": "stdout",
     "output_type": "stream",
     "text": [
      "GDAL headers saved to: /var/folders/t6/r2gjczqj7bb8798wr4g1p87m0000gn/T/tmpy6jtkan9\n"
     ]
    }
   ],
   "source": [
    "# loop over identified tiles\n",
    "with tempfile.TemporaryDirectory(dir=tmp_path) as tmpdir:\n",
    "    \n",
    "    local_path = pathlib.Path(tmpdir) \n",
    "\n",
    "    url = urlpath.URL(gshhs_url)\n",
    "    remote_shp_path = pathlib.Path(url.path)\n",
    "    remote_regex_path = remote_shp_path.with_suffix(\".*\")\n",
    "    remote_paths = dcache.glob(remote_regex_path.as_posix())\n",
    "    \n",
    "    # get (all parts of) shapefile\n",
    "    for remote_path in remote_paths:\n",
    "        path = pathlib.Path(remote_path)\n",
    "        dcache.download(\n",
    "            path.as_posix(), \n",
    "            (local_path/path.name).as_posix()\n",
    "        )\n",
    "        \n",
    "    local_shp_path = local_path/remote_shp_path.name\n",
    "    gshhs = geopandas.read_file(local_shp_path)\n",
    "        \n",
    "    for tile_id, item in tiles.items():\n",
    "\n",
    "        da = get_asset(\n",
    "            catalog,\n",
    "            asset_key=\"B02\",\n",
    "            item_id=item.id,\n",
    "            filesystem=dcache,\n",
    "            load=False\n",
    "        )\n",
    "        bbox = da.rio.bounds()\n",
    "        crs = da.spatial_ref.crs_wkt\n",
    "        transform = da.rio.transform()\n",
    "\n",
    "        tile_geometry = Polygon.from_bounds(\n",
    "            *da.rio.transform_bounds(gshhs.crs)\n",
    "        )\n",
    "        \n",
    "        mask = gshhs.intersects(tile_geometry)\n",
    "        gshhs_sub = gshhs[mask]\n",
    "        res = gshhs_sub.intersection(tile_geometry)\n",
    "        \n",
    "        shape_utm = geopandas.GeoDataFrame(\n",
    "            dict(\n",
    "                land=[1], \n",
    "                geometry=[res.to_crs(crs).unary_union]\n",
    "            ), \n",
    "            crs=res.crs\n",
    "        )\n",
    "        local_shp_utm_path = local_shp_path.with_name(\n",
    "            local_shp_path.stem + \"_utm.shp\"\n",
    "        )\n",
    "        shape_utm.to_file(local_shp_utm_path.as_posix())\n",
    "        shape2raster(local_shp_utm_path.as_posix(), tile_id, transform.to_gdal(), \n",
    "                     da.y.size, da.x.size, aoi=\"land\")\n",
    "\n",
    "        # save raster file and upload it\n",
    "        output_file = f\"{tile_id}.tif\"\n",
    "        dcache.upload(output_file, f\"{gshhs_tiles_url}/{output_file}\")"
   ]
  }
 ],
 "metadata": {
  "kernelspec": {
   "display_name": "Python 3",
   "language": "python",
   "name": "python3"
  },
  "language_info": {
   "codemirror_mode": {
    "name": "ipython",
    "version": 3
   },
   "file_extension": ".py",
   "mimetype": "text/x-python",
   "name": "python",
   "nbconvert_exporter": "python",
   "pygments_lexer": "ipython3",
   "version": "3.8.8"
  }
 },
 "nbformat": 4,
 "nbformat_minor": 5
}
