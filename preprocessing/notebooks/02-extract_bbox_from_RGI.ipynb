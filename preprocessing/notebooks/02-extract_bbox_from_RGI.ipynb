{
 "cells": [
  {
   "cell_type": "code",
   "execution_count": 1,
   "id": "4832d33e-953b-4472-b3d2-71fc1ba9fc53",
   "metadata": {},
   "outputs": [],
   "source": [
    "import geopandas\n",
    "import pyproj\n",
    "import pystac\n",
    "import shapely\n",
    "import stac2dcache\n",
    "\n",
    "from stac2dcache.utils import get_asset"
   ]
  },
  {
   "cell_type": "markdown",
   "id": "42cd8ec0-24d1-4ed4-8283-d9f6ea59c4b6",
   "metadata": {},
   "source": [
    "# Extract bounding box from Randolph Glacier Inventory (RGI)\n",
    "\n",
    "We extract the bounding box in the projected (UTM) and lat/lon coordinates from the glacier ID. A buffer is applied to include some of the surrounding region in the area of interest. "
   ]
  },
  {
   "cell_type": "code",
   "execution_count": 2,
   "id": "117e0fad-148d-49b2-9e1b-14d8da176c25",
   "metadata": {},
   "outputs": [],
   "source": [
    "# input cell\n",
    "MACAROON_PATH = \"./macaroon.dat\"\n",
    "\n",
    "CATALOG_URL = \"https://webdav.grid.surfsara.nl:2880/pnfs/grid.sara.nl/data/eratosthenes/disk/red-glacier_copernicushub-gcp\"\n",
    "\n",
    "RGI_SHAPEFILE_URL = \"https://webdav.grid.surfsara.nl:2880/pnfs/grid.sara.nl/data/eratosthenes/disk/GIS/Glacier/01_rgi60_Alaska.zip\"\n",
    "RGI_ID = \"RGI60-01.19773\"  # RGI ID of the Red Glacier\n",
    "RGI_BUFFER = 5000  # buffer around glacier in meters"
   ]
  },
  {
   "cell_type": "code",
   "execution_count": 3,
   "id": "a49cccb8-4012-4edb-bfaa-fac7b318d3ee",
   "metadata": {},
   "outputs": [],
   "source": [
    "def _read_catalog(url, stac_io=None):\n",
    "    \"\"\"\n",
    "    Read STAC catalog from URL\n",
    "\n",
    "    :param url: urlpath to the catalog root\n",
    "    :param stac_io (optional): STAC IO instance to read the catalog\n",
    "    :return: PyStac Catalog object\n",
    "    \"\"\"\n",
    "    url = url if url.endswith(\"catalog.json\") else f\"{url}/catalog.json\"\n",
    "    catalog = pystac.Catalog.from_file(url, stac_io=stac_io)\n",
    "    return catalog\n",
    "\n",
    "\n",
    "def _get_bbox_from_glacier(shapefile_url, id, crs, buffer, filesystem):\n",
    "    \"\"\"\n",
    "    Compute bounding box for a glacier from the Randolph Glacier Inventory\n",
    "\n",
    "    :param shapefile_url: urlpath to the RGI shapefile\n",
    "    :param id: RGI glacier ID\n",
    "    :param crs: output CRS\n",
    "    :param buffer: buffer region, in the output CRS units\n",
    "    :param filesystem: filesystem object\n",
    "    :return: bounding box\n",
    "    \"\"\"\n",
    "    with filesystem.open(shapefile_url) as f:\n",
    "        glaciers = geopandas.read_file(f)\n",
    "\n",
    "    glacier = glaciers[glaciers[\"RGIId\"] == id]\n",
    "    glacier_geom = glacier.geometry.item()\n",
    "\n",
    "    # transform to new CRS\n",
    "    utm = pyproj.CRS(crs)\n",
    "    wgs84 = pyproj.CRS(\"EPSG:4326\")\n",
    "    transformer = pyproj.Transformer.from_crs(wgs84, utm, always_xy=True)\n",
    "\n",
    "    glacier_geom_utm = shapely.ops.transform(\n",
    "        transformer.transform, glacier_geom\n",
    "    )\n",
    "    glacier_geom_utm = glacier_geom_utm.buffer(buffer).envelope\n",
    "    return glacier_geom_utm.bounds\n",
    "\n",
    "\n",
    "def _get_polygon_wgs84(bbox, crs):\n",
    "    \"\"\"\n",
    "    Transform bbox in a given CRS to a WGS84 Polygon\n",
    "    \n",
    "    :param bbox: bounding box\n",
    "    :param crs: coordinate reference system\n",
    "    :return: converted polygon\n",
    "    \"\"\"\n",
    "    utm = pyproj.CRS(crs)\n",
    "    wgs84 = pyproj.CRS(\"EPSG:4326\")\n",
    "    transformer = pyproj.Transformer.from_crs(utm, wgs84, always_xy=True)\n",
    "    \n",
    "    polygon_utm = shapely.geometry.Polygon.from_bounds(*bbox)\n",
    "    return shapely.ops.transform(\n",
    "        transformer.transform, polygon_utm\n",
    "    )"
   ]
  },
  {
   "cell_type": "code",
   "execution_count": 4,
   "id": "1bd6e694-2970-4074-a9aa-fbe1927ab672",
   "metadata": {},
   "outputs": [],
   "source": [
    "# configure connection to dCache\n",
    "stac2dcache.configure(token_filename=MACAROON_PATH)"
   ]
  },
  {
   "cell_type": "code",
   "execution_count": 5,
   "id": "3065cd28-4144-4787-8dee-20d74655c91e",
   "metadata": {},
   "outputs": [
    {
     "name": "stdout",
     "output_type": "stream",
     "text": [
      "GDAL headers saved to: /tmp/tmpyyzd9ltv\n"
     ]
    }
   ],
   "source": [
    "# get CRS from one of the catalog items\n",
    "catalog = _read_catalog(CATALOG_URL, stac_io=stac2dcache.stac_io)\n",
    "item = next(catalog.get_all_items())  # get a random item\n",
    "_band = get_asset(\n",
    "    catalog,\n",
    "    asset_key=\"B02\",\n",
    "    item_id=item.id,\n",
    "    filesystem=stac2dcache.fs,\n",
    "    load=False\n",
    ")\n",
    "crs = _band.rio.crs"
   ]
  },
  {
   "cell_type": "code",
   "execution_count": 6,
   "id": "9beb02a9-4ef4-492c-a02b-c4d23d1cb494",
   "metadata": {},
   "outputs": [],
   "source": [
    "# compute bounding box\n",
    "bbox = _get_bbox_from_glacier(\n",
    "    RGI_SHAPEFILE_URL,\n",
    "    RGI_ID,\n",
    "    _band.rio.crs,\n",
    "    RGI_BUFFER,\n",
    "    stac2dcache.fs\n",
    ")\n",
    "\n",
    "# convert back to WGS84\n",
    "polygon_wgs84 = _get_polygon_wgs84(bbox, _band.rio.crs)"
   ]
  },
  {
   "cell_type": "code",
   "execution_count": 7,
   "id": "311e838a-6203-42a7-a35e-c8f3dc906a1e",
   "metadata": {},
   "outputs": [
    {
     "name": "stdout",
     "output_type": "stream",
     "text": [
      "Bounding box in UTM (rounded to integer):  [490229, 6642656, 516134, 6660489]\n",
      "Polygon in WGS84:  POLYGON ((-153.17475999752926 59.921268739678986, -153.1756065979441 60.08139181090761, -152.71003577814346 60.08119061686564, -152.71143368231296 59.92106883348645, -153.17475999752926 59.921268739678986))\n"
     ]
    }
   ],
   "source": [
    "print(\"Bounding box in UTM (rounded to integer): \", [round(el) for el in bbox])\n",
    "print(\"Polygon in WGS84: \", polygon_wgs84)"
   ]
  }
 ],
 "metadata": {
  "kernelspec": {
   "display_name": "Eratosthenes",
   "language": "python",
   "name": "eratosthenes"
  },
  "language_info": {
   "codemirror_mode": {
    "name": "ipython",
    "version": 3
   },
   "file_extension": ".py",
   "mimetype": "text/x-python",
   "name": "python",
   "nbconvert_exporter": "python",
   "pygments_lexer": "ipython3",
   "version": "3.8.12"
  }
 },
 "nbformat": 4,
 "nbformat_minor": 5
}
