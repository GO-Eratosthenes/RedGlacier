{
 "cells": [
  {
   "cell_type": "code",
   "execution_count": 1,
   "id": "80ae7519-ea70-477d-a6f5-4adc5100ea84",
   "metadata": {},
   "outputs": [],
   "source": [
    "import os\n",
    "\n",
    "import geopandas\n",
    "import pyproj\n",
    "import pystac\n",
    "import shapely\n",
    "import stac2dcache\n",
    "\n",
    "from stac2dcache.utils import get_asset"
   ]
  },
  {
   "cell_type": "markdown",
   "id": "14a5b327-eb90-4324-9f47-94dfcc21441b",
   "metadata": {},
   "source": [
    "# Generate catalog for shadow classification\n",
    "\n",
    "We look here for all the Sentinel-2 scenes that are suitable for the shadow classification of the specified area of interest (AOI). We create a new catalog where we create items that link the matching:\n",
    "* L1C scenes: used as raw data for for the shadow classification algorithm.\n",
    "* L2A scenes: if available, we use these to get the scene classification layer (SCL), from which we compute the cloud mask. \n",
    "\n",
    "While initially we included all the scenes with a footprint intersecting the AOI, we then selected the only scenes with a significant overlap (>70%), thus dropping the few scenes which had a very small overlap."
   ]
  },
  {
   "cell_type": "code",
   "execution_count": 2,
   "id": "08236c84-280f-478d-a607-7d3285490cf5",
   "metadata": {},
   "outputs": [],
   "source": [
    "# input cell\n",
    "MACAROON_PATH = \"./macaroon.dat\"\n",
    "\n",
    "CATALOG_OUT_ID = \"red-glacier_shadows\"\n",
    "CATALOG_OUT_TEMPLATE = \"${year}/${month}/${day}\"\n",
    "\n",
    "CATALOG_L1C_URL = \"https://webdav.grid.surfsara.nl:2880/pnfs/grid.sara.nl/data/eratosthenes/disk/red-glacier_copernicushub-gcp\"\n",
    "CATALOG_L2A_URL = \"https://webdav.grid.surfsara.nl:2880/pnfs/grid.sara.nl/data/eratosthenes/disk/red-glacier_earth-search\"\n",
    "CATALOG_OUT_URL = f\"https://webdav.grid.surfsara.nl:2880/pnfs/grid.sara.nl/data/eratosthenes/disk/{CATALOG_OUT_ID}\"\n",
    "\n",
    "AOI_WKT = \"POLYGON ((-153.17475999752926 59.921268739678986, -153.1756065979441 60.08139181090761, -152.71003577814346 60.08119061686564, -152.71143368231296 59.92106883348645, -153.17475999752926 59.921268739678986))\""
   ]
  },
  {
   "cell_type": "code",
   "execution_count": 3,
   "id": "42229a0e-0f25-4796-a2dd-cea78323d8d2",
   "metadata": {},
   "outputs": [],
   "source": [
    "def _read_catalog(url, stac_io=None):\n",
    "    \"\"\"\n",
    "    Read STAC catalog from URL\n",
    "\n",
    "    :param url: urlpath to the catalog root\n",
    "    :param stac_io (optional): STAC IO instance to read the catalog\n",
    "    :return: PyStac Catalog object\n",
    "    \"\"\"\n",
    "    url = url if url.endswith(\"catalog.json\") else f\"{url}/catalog.json\"\n",
    "    catalog = pystac.Catalog.from_file(url, stac_io=stac_io)\n",
    "    return catalog\n",
    "\n",
    "\n",
    "def _save_catalog(items, url, template=None, stac_io=None):\n",
    "    \"\"\"\n",
    "    Save STAC items in a catalog at the provided URL\n",
    "\n",
    "    :param items: iterable with all items\n",
    "    :param url: urlpath where to save the catalog root\n",
    "    :param stac_io (optional): STAC IO instance to read the catalog\n",
    "    \"\"\"\n",
    "    url = url if not url.endswith(\"catalog.json\") else os.path.split(url)[0]\n",
    "    catalog_id = os.path.split(url)[1]\n",
    "    catalog = pystac.Catalog(\n",
    "        id=catalog_id,\n",
    "        description=\"\",\n",
    "        catalog_type=\"SELF_CONTAINED\",\n",
    "    )\n",
    "    catalog.add_items(items)\n",
    "    if template is not None:\n",
    "        catalog.generate_subcatalogs(template)\n",
    "    if stac_io is not None:\n",
    "        catalog._stac_io = stac_io\n",
    "    catalog.normalize_and_save(url)\n",
    "\n",
    "\n",
    "def _get_l2a_item(item_l1c, catalog_l2a):\n",
    "    \"\"\"\n",
    "    Get Sentinel L2A item from the corresponding L1C item.\n",
    "\n",
    "    :param item_l1c: Sentinel L1C item\n",
    "    :param catalog_l2a: catalog with Sentinel L2A data \n",
    "    :param stac_io (optional): STAC IO instance to read the catalog\n",
    "    :return:\n",
    "    \"\"\"\n",
    "    platform = item_l1c.properties[\"platform\"][-1].capitalize()  # e.g. \"A\"\n",
    "    mgrs_tile = item_l1c.properties[\"s2:mgrs_tile\"]  # e.g. \"05VMG\"\n",
    "    utm_zone = int(mgrs_tile[0:2])  # e.g. 5\n",
    "    cell = mgrs_tile[2:]  # e.g. \"VMG\"\n",
    "    date = item_l1c.datetime.strftime(\"%Y%m%d\")  # e.g. \"20220202\"\n",
    "    \n",
    "    item_l2a_id = f\"S2{platform}_{utm_zone}{cell}_{date}_0_L2A\"\n",
    "\n",
    "    return catalog_l2a.get_item(item_l2a_id, recursive=True)"
   ]
  },
  {
   "cell_type": "code",
   "execution_count": 4,
   "id": "fd0a9ff8-58c5-4020-b957-a9292d445c57",
   "metadata": {},
   "outputs": [],
   "source": [
    "# configure connection to dCache\n",
    "stac2dcache.configure(token_filename=MACAROON_PATH)\n",
    "\n",
    "# read data catalogs\n",
    "catalog_l1c = _read_catalog(CATALOG_L1C_URL, stac_io=stac2dcache.stac_io)\n",
    "catalog_l2a = _read_catalog(CATALOG_L2A_URL, stac_io=stac2dcache.stac_io)"
   ]
  },
  {
   "cell_type": "code",
   "execution_count": 5,
   "id": "08d638fe-94d4-440b-9c09-ea90038ec042",
   "metadata": {},
   "outputs": [],
   "source": [
    "# loop over all L1C items\n",
    "items = []\n",
    "for item_l1c in catalog_l1c.get_all_items():\n",
    "\n",
    "    # find out whether there is overlap between item and glacier\n",
    "    item_geometry = shapely.geometry.shape(item_l1c.geometry)\n",
    "    aoi_geometry = shapely.wkt.loads(AOI_WKT)\n",
    "    geometry = item_geometry.intersection(aoi_geometry)\n",
    "\n",
    "    # if not geometry.is_empty:\n",
    "    if (geometry.area / aoi_geometry.area) > 0.70:\n",
    "        \n",
    "        # create new item to collect output\n",
    "        item = pystac.Item(\n",
    "            id=item_l1c.datetime.strftime(\"S2_%Y-%m-%d\"),\n",
    "            geometry=shapely.geometry.mapping(geometry),\n",
    "            bbox=geometry.bounds,\n",
    "            datetime=item_l1c.datetime,\n",
    "            properties={}\n",
    "        )\n",
    "\n",
    "        # get corresponding L2A item\n",
    "        item_l2a = _get_l2a_item(item_l1c, catalog_l2a)\n",
    "\n",
    "        # add links to l1c/l2a items for input\n",
    "        item.add_link(pystac.Link(\"item-L1C\", item_l1c))\n",
    "        if item_l2a is not None:\n",
    "            item.add_link(pystac.Link(\"item-L2A\", item_l2a))\n",
    "\n",
    "        items.append(item)"
   ]
  },
  {
   "cell_type": "code",
   "execution_count": 6,
   "id": "9b1b64ee-0147-4cb5-89c9-886975c0d3d7",
   "metadata": {},
   "outputs": [],
   "source": [
    "# save items back to the storage\n",
    "_save_catalog(\n",
    "    items, \n",
    "    CATALOG_OUT_URL, \n",
    "    template=CATALOG_OUT_TEMPLATE,\n",
    "    stac_io=stac2dcache.stac_io,\n",
    ")"
   ]
  },
  {
   "cell_type": "code",
   "execution_count": 7,
   "id": "d49babb7-d789-42fe-b386-9f15796a6839",
   "metadata": {},
   "outputs": [],
   "source": [
    "# # uncomment to clean up\n",
    "# stac2dcache.fs.api_url = \"https://dcacheview.grid.surfsara.nl:22880/api/v1\"\n",
    "# stac2dcache.fs.rm(CATALOG_OUT_URL, recursive=True)"
   ]
  }
 ],
 "metadata": {
  "kernelspec": {
   "display_name": "Eratosthenes",
   "language": "python",
   "name": "eratosthenes"
  },
  "language_info": {
   "codemirror_mode": {
    "name": "ipython",
    "version": 3
   },
   "file_extension": ".py",
   "mimetype": "text/x-python",
   "name": "python",
   "nbconvert_exporter": "python",
   "pygments_lexer": "ipython3",
   "version": "3.8.12"
  }
 },
 "nbformat": 4,
 "nbformat_minor": 5
}
