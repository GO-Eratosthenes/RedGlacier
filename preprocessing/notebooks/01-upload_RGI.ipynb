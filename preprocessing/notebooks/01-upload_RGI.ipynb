{
 "cells": [
  {
   "cell_type": "code",
   "execution_count": 8,
   "id": "other-dance",
   "metadata": {},
   "outputs": [],
   "source": [
    "import dcachefs\n",
    "import pathlib"
   ]
  },
  {
   "cell_type": "markdown",
   "id": "8030aaf5-79e2-47ed-9789-af1146d75b76",
   "metadata": {},
   "source": [
    "# Upload Randolph Glacier Inventory to the dCache storage  "
   ]
  },
  {
   "cell_type": "code",
   "execution_count": 13,
   "id": "adolescent-resolution",
   "metadata": {},
   "outputs": [],
   "source": [
    "rgi_path = \"00_rgi60\"\n",
    "url_path = (\n",
    "    \"https://webdav.grid.surfsara.nl:2880\"\n",
    "    \"/pnfs/grid.sara.nl/data/eratosthenes/\"\n",
    "    \"disk/GIS/Glacier\"\n",
    ")"
   ]
  },
  {
   "cell_type": "code",
   "execution_count": 10,
   "id": "waiting-launch",
   "metadata": {},
   "outputs": [],
   "source": [
    "with open(\"macaroon.dat\") as f:\n",
    "    token = f.read().strip()\n",
    "    \n",
    "dcache = dcachefs.dCacheFileSystem(\n",
    "    token=token,\n",
    "    api_url=\"https://dcacheview.grid.surfsara.nl:22880/api/v1\"\n",
    ")"
   ]
  },
  {
   "cell_type": "code",
   "execution_count": 18,
   "id": "worth-video",
   "metadata": {},
   "outputs": [],
   "source": [
    "for file in pathlib.Path(rgi_path).iterdir():\n",
    "    local_path = file.as_posix()\n",
    "    remote_path = f\"{url_path}/{file.name}\"\n",
    "    dcache.upload(local_path, remote_path)"
   ]
  }
 ],
 "metadata": {
  "kernelspec": {
   "display_name": "Python 3 (ipykernel)",
   "language": "python",
   "name": "python3"
  },
  "language_info": {
   "codemirror_mode": {
    "name": "ipython",
    "version": 3
   },
   "file_extension": ".py",
   "mimetype": "text/x-python",
   "name": "python",
   "nbconvert_exporter": "python",
   "pygments_lexer": "ipython3",
   "version": "3.9.10"
  }
 },
 "nbformat": 4,
 "nbformat_minor": 5
}
